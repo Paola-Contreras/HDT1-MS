{
 "cells": [
  {
   "attachments": {},
   "cell_type": "markdown",
   "metadata": {},
   "source": [
    "### Laboratorio No.1 - Modelación y simulación "
   ]
  },
  {
   "attachments": {},
   "cell_type": "markdown",
   "metadata": {},
   "source": [
    "#### Ejercicio 1 - Propiedades de Distribución de Probabilidad\n",
    "Genere una muestra aleatoria de 1000 puntos de datos de una distribución normal con media 0 y desviación\n",
    "estándar 1.\n",
    "Tasks:\n",
    "1. Calcule e imprima la media, la varianza y la asimetría de la muestra.\n",
    "2. Trace un histograma de los datos y observe su forma.\n",
    "3. ¿Qué le dicen estas estadísticas sobre la tendencia central, la dispersión y la forma de los datos?"
   ]
  },
  {
   "cell_type": "code",
   "execution_count": null,
   "metadata": {
    "vscode": {
     "languageId": "plaintext"
    }
   },
   "outputs": [],
   "source": []
  },
  {
   "attachments": {},
   "cell_type": "markdown",
   "metadata": {},
   "source": [
    "_________________________________________________________________________________________________________"
   ]
  },
  {
   "attachments": {},
   "cell_type": "markdown",
   "metadata": {},
   "source": [
    "#### Ejercicio 2 - PDF & CDF\n",
    "Genere una muestra aleatoria de 1000 puntos de datos a partir de una distribución exponencial con parámetro de\n",
    "tasa 0.5.\n",
    "Tasks:\n",
    "1. Trace la función de densidad de probabilidad (PDF) y la función de distribución acumulativa (CDF) de los\n",
    "datos.\n",
    "2. Calcule e imprima las probabilidades para intervalos específicos utilizando la CDF. (por lo menos 2\n",
    "intervalos a su elección)\n",
    "3. ¿Qué información puede obtener de la forma del PDF y el comportamiento de la CDF?"
   ]
  },
  {
   "cell_type": "code",
   "execution_count": null,
   "metadata": {
    "vscode": {
     "languageId": "plaintext"
    }
   },
   "outputs": [],
   "source": []
  },
  {
   "attachments": {},
   "cell_type": "markdown",
   "metadata": {},
   "source": [
    "_________________________________________________________________________________________________________"
   ]
  },
  {
   "attachments": {},
   "cell_type": "markdown",
   "metadata": {},
   "source": [
    "#### Ejercicio 3 - Bias & Kurtosis\n",
    "Genere una muestra aleatoria de 1000 puntos de datos a partir de una distribución beta con parámetros de forma\n",
    "(2, 2).\n",
    "Tasks:\n",
    "1. Calcule e imprima el sesgo y la curtosis de la muestra.\n",
    "2. Analice las implicaciones del sesgo y la curtosis en la forma y las características de la distribución."
   ]
  },
  {
   "cell_type": "code",
   "execution_count": null,
   "metadata": {
    "vscode": {
     "languageId": "plaintext"
    }
   },
   "outputs": [],
   "source": []
  },
  {
   "attachments": {},
   "cell_type": "markdown",
   "metadata": {},
   "source": [
    "_________________________________________________________________________________________________________"
   ]
  },
  {
   "attachments": {},
   "cell_type": "markdown",
   "metadata": {},
   "source": [
    "#### Ejercicio 4 - Generación de Números aleatorios\n",
    "Genere una muestra aleatoria de 1000 puntos de datos a partir de una distribución de Poisson con parámetro\n",
    "lambda 5.\n",
    "Tasks:\n",
    "1. Trace un histograma de los datos generados.\n",
    "2. Calcule e imprima la media y la varianza de la muestra.\n",
    "3. ¿Puedes observar algún patrón o tendencia en los datos generados a partir de la distribución de Poisson?\n"
   ]
  },
  {
   "cell_type": "code",
   "execution_count": null,
   "metadata": {
    "vscode": {
     "languageId": "plaintext"
    }
   },
   "outputs": [],
   "source": []
  },
  {
   "attachments": {},
   "cell_type": "markdown",
   "metadata": {},
   "source": [
    "_________________________________________________________________________________________________________"
   ]
  },
  {
   "attachments": {},
   "cell_type": "markdown",
   "metadata": {},
   "source": [
    "#### Ejercicio 5 - Muestreo\n",
    "Muestree 500 puntos de datos de una distribución normal utilizando el método de transformación inversa.\n",
    "Tasks:\n",
    "1. Trace un histograma de los datos generados.\n",
    "2. Compare el histograma con la PDF teórica de la distribución normal.\n",
    "3. ¿La muestra generada representa con precisión la distribución normal subyacente?"
   ]
  },
  {
   "cell_type": "code",
   "execution_count": null,
   "metadata": {
    "vscode": {
     "languageId": "plaintext"
    }
   },
   "outputs": [],
   "source": []
  },
  {
   "attachments": {},
   "cell_type": "markdown",
   "metadata": {},
   "source": [
    "_________________________________________________________________________________________________________"
   ]
  },
  {
   "attachments": {},
   "cell_type": "markdown",
   "metadata": {},
   "source": [
    "#### Ejercicio 6 - Estimación de Parámetros\n",
    "Genere una muestra aleatoria de 1000 puntos de datos a partir de una distribución gamma con parámetro de forma\n",
    "2 y parámetro de escala 3.\n",
    "Tasks:\n",
    "1. Utilice MLE para estimar los parámetros de forma y escala de la distribución gamma de la muestra.\n",
    "2. ¿Qué tan cerca están los parámetros estimados de los parámetros verdaderos?\n",
    "3. ¿Puede evaluar la bondad de ajuste de la distribución estimada a los datos observados?"
   ]
  },
  {
   "cell_type": "code",
   "execution_count": null,
   "metadata": {
    "vscode": {
     "languageId": "plaintext"
    }
   },
   "outputs": [],
   "source": []
  },
  {
   "attachments": {},
   "cell_type": "markdown",
   "metadata": {},
   "source": [
    "_________________________________________________________________________________________________________"
   ]
  },
  {
   "attachments": {},
   "cell_type": "markdown",
   "metadata": {},
   "source": [
    "#### Ejercicio 7 - Distribuciones Multivariable\n",
    "Genere una muestra aleatoria de 1000 puntos de datos a partir de una distribución normal bivariada con vector\n",
    "medio [0, 0] y matriz de covarianza [[1, 0,5], [0,5, 1]].\n",
    "Tasks:\n",
    "1. Visualice los puntos de datos en un diagrama de dispersión.\n",
    "2. Calcula e imprime el coeficiente de correlación entre las dos variables.\n",
    "3. ¿Qué información puede obtener sobre la relación entre las variables del diagrama de dispersión y el\n",
    "coeficiente de correlación?"
   ]
  },
  {
   "cell_type": "code",
   "execution_count": null,
   "metadata": {
    "vscode": {
     "languageId": "plaintext"
    }
   },
   "outputs": [],
   "source": []
  },
  {
   "attachments": {},
   "cell_type": "markdown",
   "metadata": {},
   "source": [
    "_________________________________________________________________________________________________________"
   ]
  },
  {
   "attachments": {},
   "cell_type": "markdown",
   "metadata": {},
   "source": [
    "##### Ejercicio 8- Goodness-of-Fit Test\n",
    "Imagen adjunta \n"
   ]
  }
 ],
 "metadata": {
  "language_info": {
   "name": "python"
  },
  "orig_nbformat": 4
 },
 "nbformat": 4,
 "nbformat_minor": 2
}
